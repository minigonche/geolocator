{
 "cells": [
  {
   "cell_type": "markdown",
   "metadata": {},
   "source": [
    "# Notes"
   ]
  },
  {
   "cell_type": "code",
   "execution_count": 5,
   "metadata": {},
   "outputs": [
    {
     "name": "stdout",
     "output_type": "stream",
     "text": [
      "1 1700, 1739 & 1750 Pipeline Road Coquitlam BC  V3E 3P6\n",
      "Done\n"
     ]
    }
   ],
   "source": [
    "from geolocator import Geolocator\n",
    "import time\n",
    "import pandas as pd\n",
    "\n",
    "\n",
    "\n",
    "locator = Geolocator( engines = ['geocodefarm','bing', 'geolytica'])\n",
    "\n",
    "df = pd.read_csv(\"locations.csv\")\n",
    "\n",
    "\n",
    "for i, row in df.iterrows():\n",
    "\n",
    "    loc = row.address\n",
    "\n",
    "    print(f\"{i+1} {loc}\")\n",
    "\n",
    "    resp = locator.get_coordinates(address  = loc)\n",
    "\n",
    "    locator.export_response_to_file(address=loc, resp=resp)\n",
    "\n",
    "    # Sleep for 5 seconds\n",
    "    time.sleep(10)\n",
    "\n",
    "\n",
    "print(\"Done\")"
   ]
  },
  {
   "cell_type": "code",
   "execution_count": 4,
   "metadata": {},
   "outputs": [
    {
     "data": {
      "text/plain": [
       "1.71"
      ]
     },
     "execution_count": 4,
     "metadata": {},
     "output_type": "execute_result"
    }
   ],
   "source": [
    "\t\t\n",
    "\n",
    "\n",
    "resp = {\n",
    "    \"geocodefarm\" : [49.2819180743497,-123.069132016364],\n",
    "    \"bing\" : [49.2819196,-123.0691373],\n",
    "    \"geolytica\" : [49.281925,-123.069153]\n",
    "\n",
    "}\n",
    "\n",
    "locator.get_error(resp)"
   ]
  },
  {
   "cell_type": "code",
   "execution_count": 3,
   "metadata": {},
   "outputs": [
    {
     "data": {
      "text/plain": [
       "28.3873480459692"
      ]
     },
     "execution_count": 3,
     "metadata": {},
     "output_type": "execute_result"
    }
   ],
   "source": [
    "from geolocator import Geolocator\n",
    "import numpy as np\n",
    "\n",
    "locator = Geolocator()\n",
    "\n",
    "resp = {'geocodefarm': np.array([  49.02138032, -123.16802018]),\n",
    " #'arcgis': np.array([  49.05852676, -123.11369861]),\n",
    " 'bing': np.array([  49.021354, -123.168059]),\n",
    " 'osm': np.array([np.nan, np.nan]),\n",
    " 'geolytica': np.array([  49.019111, -123.161995]),\n",
    " 'ottawa': np.array([np.nan, np.nan])}\n",
    "\n",
    "locator.get_error(resp)"
   ]
  },
  {
   "cell_type": "code",
   "execution_count": 8,
   "metadata": {},
   "outputs": [
    {
     "data": {
      "text/plain": [
       "<[ERROR - No results found] Ottawa - Geocode [empty]>"
      ]
     },
     "execution_count": 8,
     "metadata": {},
     "output_type": "execute_result"
    }
   ],
   "source": [
    "import geocoder\n",
    "\n",
    "\n",
    "# geocodefarm\n",
    "# arcgis\n",
    "# osm\n",
    "# geolytica\n",
    "# ottawa\n",
    "\n",
    "\n",
    "loc = \"1 Roberts Bank Road Delta BC  V4M 4G5\"\n",
    "g = geocoder.ottawa(loc)\n",
    "g\n"
   ]
  },
  {
   "cell_type": "code",
   "execution_count": 9,
   "metadata": {},
   "outputs": [
    {
     "data": {
      "text/plain": [
       "False"
      ]
     },
     "execution_count": 9,
     "metadata": {},
     "output_type": "execute_result"
    }
   ],
   "source": [
    "g.ok"
   ]
  },
  {
   "cell_type": "code",
   "execution_count": 5,
   "metadata": {},
   "outputs": [
    {
     "name": "stdout",
     "output_type": "stream",
     "text": [
      "Distance between the points: 24.425122543241372 meters\n"
     ]
    }
   ],
   "source": [
    "from math import radians, sin, cos, sqrt, atan2\n",
    "\n",
    "def calculate_distance(lat1, lon1, lat2, lon2):\n",
    "    # Convert decimal degrees to radians\n",
    "    lat1_rad = radians(lat1)\n",
    "    lon1_rad = radians(lon1)\n",
    "    lat2_rad = radians(lat2)\n",
    "    lon2_rad = radians(lon2)\n",
    "\n",
    "    # Radius of the Earth in kilometers\n",
    "    radius = 6371000\n",
    "\n",
    "    # Haversine formula\n",
    "    dlat = lat2_rad - lat1_rad\n",
    "    dlon = lon2_rad - lon1_rad\n",
    "    a = sin(dlat/2)**2 + cos(lat1_rad) * cos(lat2_rad) * sin(dlon/2)**2\n",
    "    c = 2 * atan2(sqrt(a), sqrt(1-a))\n",
    "    distance = radius * c\n",
    "\n",
    "    return distance\n",
    "\n",
    "# Coordinates\n",
    "lat1 = 49.3013807753023\n",
    "lon1 = -123.015201548644\n",
    "lat2 = 49.301332\n",
    "lon2 = -123.01553\n",
    "\n",
    "\n",
    "#49.297922,-123.013426\n",
    "# Calculate the distance\n",
    "distance = calculate_distance(lat1, lon1, lat2, lon2)\n",
    "print(\"Distance between the points:\", distance, \"meters\")"
   ]
  },
  {
   "cell_type": "code",
   "execution_count": 2,
   "metadata": {},
   "outputs": [
    {
     "data": {
      "text/plain": [
       "392217.2595594006"
      ]
     },
     "execution_count": 2,
     "metadata": {},
     "output_type": "execute_result"
    }
   ],
   "source": [
    "from haversine import haversine, Unit\n",
    "\n",
    "lyon = (45.7597, 4.8422) # (lat, lon)\n",
    "paris = (48.8567, 2.3508)\n",
    "\n",
    "haversine(lyon, paris, unit = \"m\")\n"
   ]
  }
 ],
 "metadata": {
  "kernelspec": {
   "display_name": "Python 3.10.6 ('env': venv)",
   "language": "python",
   "name": "python3"
  },
  "language_info": {
   "codemirror_mode": {
    "name": "ipython",
    "version": 3
   },
   "file_extension": ".py",
   "mimetype": "text/x-python",
   "name": "python",
   "nbconvert_exporter": "python",
   "pygments_lexer": "ipython3",
   "version": "3.10.6"
  },
  "orig_nbformat": 4,
  "vscode": {
   "interpreter": {
    "hash": "7563632b36edb622ad16d954604cd5c62d91f8256440981dca440bde72aaa633"
   }
  }
 },
 "nbformat": 4,
 "nbformat_minor": 2
}
